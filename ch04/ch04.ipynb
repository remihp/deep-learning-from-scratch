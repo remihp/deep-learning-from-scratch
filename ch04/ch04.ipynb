{
 "cells": [
  {
   "cell_type": "markdown",
   "id": "c70b4432",
   "metadata": {},
   "source": [
    "## 交差エントロピー誤差\n",
    "\n",
    "$$\n",
    "E = -\\sum_k t_{nk}\\log y_{nk}\n",
    "$$"
   ]
  },
  {
   "cell_type": "code",
   "execution_count": 4,
   "id": "8968d85d",
   "metadata": {},
   "outputs": [],
   "source": [
    "import numpy as np\n",
    "def cross_entropy_error(y, t):\n",
    "    delta = 1e-7\n",
    "    return -np.sum(t*np.log(y+delta))"
   ]
  },
  {
   "cell_type": "code",
   "execution_count": 14,
   "id": "388ce8cb",
   "metadata": {},
   "outputs": [
    {
     "data": {
      "text/plain": [
       "0.510825457099338"
      ]
     },
     "execution_count": 14,
     "metadata": {},
     "output_type": "execute_result"
    }
   ],
   "source": [
    "t = np.array([0,0,1,0,0,0,0,0,0,0])\n",
    "y = np.array([0.1,0.05,0.6,0.0,0.05,0.1,0.0,0.1,0.0,0.0])\n",
    "cross_entropy_error(y, t)"
   ]
  },
  {
   "cell_type": "code",
   "execution_count": 8,
   "id": "ca5dec97",
   "metadata": {},
   "outputs": [
    {
     "data": {
      "text/plain": [
       "2.302584092994546"
      ]
     },
     "execution_count": 8,
     "metadata": {},
     "output_type": "execute_result"
    }
   ],
   "source": [
    "t = np.array([1,0,0,0,0,0,0,0,0,0])\n",
    "cross_entropy_error(y, t)"
   ]
  },
  {
   "cell_type": "markdown",
   "id": "8c2f7015",
   "metadata": {},
   "source": [
    "## ミニバッチ学習\n",
    "\n",
    "$$\n",
    "E = -\\frac{1}{N} \\sum_n \\sum_k t_{nk}\\log y_{nk}\n",
    "$$"
   ]
  },
  {
   "cell_type": "code",
   "execution_count": 36,
   "id": "b8e7cb8d",
   "metadata": {},
   "outputs": [
    {
     "name": "stdout",
     "output_type": "stream",
     "text": [
      "(60000, 784)\n",
      "(60000,)\n"
     ]
    }
   ],
   "source": [
    "import sys, os\n",
    "sys.path.append(os.pardir)\n",
    "import numpy as np\n",
    "from dataset.mnist import load_mnist\n",
    "\n",
    "(x_train, t_train), (x_test, t_test) = load_mnist(normalize=True, one_hot_label=False)\n",
    "\n",
    "print(x_train.shape)\n",
    "print(t_train.shape)"
   ]
  },
  {
   "cell_type": "code",
   "execution_count": 37,
   "id": "aa0255c9",
   "metadata": {},
   "outputs": [
    {
     "name": "stdout",
     "output_type": "stream",
     "text": [
      "(10, 784)\n",
      "(10,)\n"
     ]
    }
   ],
   "source": [
    "# 訓練データからランダムに10枚だけ取り出す\n",
    "train_size = x_train.shape[0] # trainのデータ数\n",
    "batch_size = 10\n",
    "batch_mask = np.random.choice(train_size, batch_size)\n",
    "x_batch = x_train[batch_mask]\n",
    "t_batch = t_train[batch_mask]\n",
    "\n",
    "print(x_batch.shape)\n",
    "print(t_batch.shape)"
   ]
  },
  {
   "cell_type": "code",
   "execution_count": 42,
   "id": "10212fb9",
   "metadata": {},
   "outputs": [],
   "source": [
    "# データが一つの場合とバッチとしてまとめられている時両方に対応\n",
    "def cross_entropy_error(y, t):\n",
    "    if y.ndim == 1:\n",
    "        t = t.reshape(1, t.size)\n",
    "        y = y.reshape(1, y.size)\n",
    "    \n",
    "    delta = 1e-7\n",
    "    batch_size = y.shape[0]\n",
    "    print(batch_size)\n",
    "    # return -np.sum(t*np.log(y+delta)) / batch_size\n",
    "    return -np.sum(np.log(y[np.arange(batch_size),t]+delta)) / batch_size # 教師データがone-hotでない場合"
   ]
  },
  {
   "cell_type": "markdown",
   "id": "48b0df82",
   "metadata": {},
   "source": [
    "`y[np.arange(batch_size),t]`は各データの正解ラベルに対応するNNの出力を抽出"
   ]
  },
  {
   "cell_type": "markdown",
   "id": "eaff4899",
   "metadata": {},
   "source": [
    "## 勾配法による更新のプロセス(p.109, 図4-10)\n",
    "\n",
    "$$\n",
    "f(x_0,x_1)=x_0^2+x_1^2\n",
    "$$"
   ]
  },
  {
   "cell_type": "code",
   "execution_count": 65,
   "id": "d9a242e7",
   "metadata": {},
   "outputs": [
    {
     "data": {
      "image/png": "[encoded data removed]",
      "text/plain": [
       "<Figure size 432x288 with 1 Axes>"
      ]
     },
     "metadata": {
      "needs_background": "light"
     },
     "output_type": "display_data"
    }
   ],
   "source": [
    "import numpy as np\n",
    "import matplotlib.pylab as plt\n",
    "from gradient_2d import numerical_gradient\n",
    "\n",
    "\n",
    "def gradient_descent(f, init_x, lr=0.01, step_num=100): # x = x-lr*f'(x)\n",
    "    x = init_x\n",
    "    x_history = []\n",
    "\n",
    "    for i in range(step_num):\n",
    "        x_history.append( x.copy() )\n",
    "\n",
    "        grad = numerical_gradient(f, x) # 勾配\n",
    "        x -= lr * grad\n",
    "\n",
    "    return x, np.array(x_history)\n",
    "\n",
    "\n",
    "def function_2(x):\n",
    "    return x[0]**2 + x[1]**2\n",
    "\n",
    "init_x = np.array([-3.0, 4.0])    \n",
    "\n",
    "lr = 0.1\n",
    "step_num = 20\n",
    "x, x_history = gradient_descent(function_2, init_x, lr=lr, step_num=step_num)\n",
    "\n",
    "\n",
    "plt.plot(x_history[:,0], x_history[:,1], 'o')\n",
    "\n",
    "x = np.arange(-4, 4, 0.05) #x軸の描画範囲の生成。0から10まで0.05刻み。\n",
    "y = np.arange(-5, 5, 0.05) #y軸の描画範囲の生成。0から10まで0.05刻み。\n",
    "\n",
    "X, Y = np.meshgrid(x, y)\n",
    "Z = function_2([X,Y])  # 表示する計算式の指定。等高線はZに対して作られる。\n",
    "\n",
    "plt.pcolormesh(X, Y, Z, cmap='hsv') # 等高線図の生成。cmapで色付けの規則を指定する。\n",
    "\n",
    "plt.xlim(-3.5, 3.5)\n",
    "plt.ylim(-4.5, 4.5)\n",
    "plt.xlabel(\"X0\")\n",
    "plt.ylabel(\"X1\")\n",
    "plt.show()"
   ]
  },
  {
   "cell_type": "code",
   "execution_count": null,
   "id": "64b7af5c",
   "metadata": {},
   "outputs": [],
   "source": []
  }
 ],
 "metadata": {
  "kernelspec": {
   "display_name": "Python 3 (ipykernel)",
   "language": "python",
   "name": "python3"
  },
  "language_info": {
   "codemirror_mode": {
    "name": "ipython",
    "version": 3
   },
   "file_extension": ".py",
   "mimetype": "text/x-python",
   "name": "python",
   "nbconvert_exporter": "python",
   "pygments_lexer": "ipython3",
   "version": "3.7.1"
  }
 },
 "nbformat": 4,
 "nbformat_minor": 5
}
